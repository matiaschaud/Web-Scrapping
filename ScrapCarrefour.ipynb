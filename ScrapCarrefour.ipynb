{
 "cells": [
  {
   "cell_type": "code",
   "execution_count": 59,
   "metadata": {},
   "outputs": [],
   "source": [
    "#---------------------------------------- Importa las librerias a utilizar ----------------------------------------#\n",
    "import requests\n",
    "from bs4 import BeautifulSoup\n",
    "import re\n",
    "from selenium import webdriver\n",
    "import time\n",
    "from datetime import datetime"
   ]
  },
  {
   "cell_type": "code",
   "execution_count": 60,
   "metadata": {},
   "outputs": [],
   "source": [
    "#---------------------------------------- Funciones complementarias ----------------------------------------#\n",
    "def archivo_url(texto,formato_archivo):\n",
    "    \"\"\"Función para despejar el nombre de un archivo en una url.\"\"\"\n",
    "    patron = re.compile(\".\" + formato_archivo.lower())\n",
    "    patron2 = re.compile(\"/\")\n",
    "\n",
    "    s2 = patron2.split(texto)\n",
    "\n",
    "    for txt in s2:\n",
    "        s = patron.search(txt)\n",
    "        if type(s) == re.Match:\n",
    "            txt2 = patron.split(txt)\n",
    "            return(txt2[0])"
   ]
  },
  {
   "cell_type": "code",
   "execution_count": 61,
   "metadata": {},
   "outputs": [],
   "source": [
    "#---------------------------------------- Obtiene los links a scrappear ----------------------------------------#\n",
    "while True:\n",
    "    try:\n",
    "        r = requests.get(\"https://supermercado.carrefour.com.ar/\")\n",
    "        c = r.content\n",
    "        soup = BeautifulSoup(c,\"html.parser\",multi_valued_attributes=None)\n",
    "        ol_primary = soup.find(\"ol\",{\"class\":\"nav-primary\"})\n",
    "        h2 = ol_primary.findAll(\"h2\")\n",
    "        break\n",
    "    except:\n",
    "        time.spleep(1)\n",
    "        pass\n",
    "\n",
    "links = {}\n",
    "for categoria in h2:\n",
    "    try:\n",
    "        link = categoria.find(\"a\")\n",
    "        links[archivo_url(link.get(\"href\"),\"html\")] = link.get(\"href\")\n",
    "    except:\n",
    "        pass"
   ]
  },
  {
   "cell_type": "code",
   "execution_count": 26,
   "metadata": {},
   "outputs": [
    {
     "name": "stdout",
     "output_type": "stream",
     "text": [
      "gigante\n",
      "https://supermercado.carrefour.com.ar/gigante.html\n",
      "vinos-del-mes\n",
      "https://supermercado.carrefour.com.ar/vinos-del-mes.html\n",
      "precios-corajudos\n",
      "https://supermercado.carrefour.com.ar/precios-corajudos.html\n",
      "precios-cuidados\n",
      "https://supermercado.carrefour.com.ar/precios-cuidados.html\n",
      "sin-tacc\n",
      "https://supermercado.carrefour.com.ar/sin-tacc.html\n",
      "bebidas\n",
      "https://supermercado.carrefour.com.ar/bebidas.html\n",
      "almacen\n",
      "https://supermercado.carrefour.com.ar/almacen.html\n",
      "desayuno-y-merienda\n",
      "https://supermercado.carrefour.com.ar/desayuno-y-merienda.html\n",
      "golosinas-y-snacks\n",
      "https://supermercado.carrefour.com.ar/golosinas-y-snacks.html\n",
      "lacteos-y-productos-frescos\n",
      "https://supermercado.carrefour.com.ar/lacteos-y-productos-frescos.html\n",
      "congelados\n",
      "https://supermercado.carrefour.com.ar/congelados.html\n",
      "carnes-y-pescados\n",
      "https://supermercado.carrefour.com.ar/carnes-y-pescados.html\n",
      "quesos-y-fiambres\n",
      "https://supermercado.carrefour.com.ar/quesos-y-fiambres.html\n",
      "frutas-y-verduras\n",
      "https://supermercado.carrefour.com.ar/frutas-y-verduras.html\n",
      "panaderia\n",
      "https://supermercado.carrefour.com.ar/panaderia.html\n",
      "limpieza\n",
      "https://supermercado.carrefour.com.ar/limpieza.html\n",
      "perfumeria\n",
      "https://supermercado.carrefour.com.ar/perfumeria.html\n",
      "mundo-bebe\n",
      "https://supermercado.carrefour.com.ar/mundo-bebe.html\n",
      "mascotas\n",
      "https://supermercado.carrefour.com.ar/mascotas.html\n",
      "hogar-y-bazar\n",
      "https://supermercado.carrefour.com.ar/hogar-y-bazar.html\n"
     ]
    }
   ],
   "source": [
    "for a,b in links.items():\n",
    "    print(a)\n",
    "    print(b)"
   ]
  },
  {
   "cell_type": "code",
   "execution_count": 62,
   "metadata": {},
   "outputs": [],
   "source": [
    "#---------------------------------------- Carga todos los items de la pag ----------------------------------------#\n",
    "\n",
    "# browser = webdriver.PhantomJS()\n",
    "browser = webdriver.Chrome(\"C:\\chromedriver_win32\\chromedriver.exe\")\n",
    "browser.get(\"https://supermercado.carrefour.com.ar/almacen.html\")\n",
    "\n",
    "SCROLL_PAUSE_TIME = 0.5\n",
    "\n",
    "# Get scroll height\n",
    "last_height = browser.execute_script(\"return document.body.scrollHeight\")\n",
    "\n",
    "while True:\n",
    "    # Scroll down to bottom\n",
    "    browser.execute_script(\"window.scrollTo(0, document.body.scrollHeight);\")\n",
    "\n",
    "    # Wait to load page\n",
    "    time.sleep(SCROLL_PAUSE_TIME)\n",
    "\n",
    "    # Calculate new scroll height and compare with last scroll height\n",
    "    new_height = browser.execute_script(\"return document.body.scrollHeight\")\n",
    "    if new_height == last_height:\n",
    "        break\n",
    "    last_height = new_height\n",
    "\n",
    "\n",
    "for i in range(60):\n",
    "    time.sleep(1)     #Explicit wait\n",
    "    # click radio button\n",
    "    try:\n",
    "        python_button = browser.find_elements_by_xpath(\"/html/body/div[1]/div[1]/div[1]/div[8]/div/div/div[4]/a\")[0]\n",
    "        browser.execute_script(\"arguments[0].click();\", python_button)\n",
    "    except:\n",
    "        pass\n",
    "time.sleep(1)     #Explicit wait\n",
    "\n"
   ]
  },
  {
   "cell_type": "code",
   "execution_count": 70,
   "metadata": {},
   "outputs": [],
   "source": [
    "#---------------------------------------- Código scrap de la página cargada ----------------------------------------#\n",
    "\n",
    "soup = BeautifulSoup(browser.page_source,\"html.parser\",multi_valued_attributes=None)\n",
    "all = soup.findAll(\"div\", {\"class\": \"col s12 product-card product-card-food\"})\n",
    "\n",
    "l=[]\n",
    "for item in all:\n",
    "    p={}\n",
    "    info_producto = item.find(\"div\",{\"class\":\"producto-info\"})\n",
    "    p['ruta_categoria'] = \" \".join(info_producto['data-categorytext'].split())\n",
    "    p['precio_bruto'] = info_producto['data-price'].replace(\",\",\"\").replace(\".\",\",\")\n",
    "    if item.find(\"div\",{\"class\":\"batches\"}) is not None:\n",
    "        p['etiqueta_png'] = archivo_url(item.find(\"div\",{\"class\":\"batches\"})['style'],\"png\")\n",
    "    p['precio_medida'],p['medida'] = item.find(\"div\",{\"class\":\"precio-medida\"}).text.strip().split('x')\n",
    "    p['precio_medida'] = p['precio_medida'].replace(\"($\",\"\").strip().replace(\".\",\"\")\n",
    "    p['medida'] = p['medida'].replace(\".)\",\"\").strip()\n",
    "    try:\n",
    "        p['oferta'] = \" \".join(item.find(\"p\",{\"class\",\"offer\"}).text.split())\n",
    "    except:\n",
    "        p['oferta'] = None\n",
    "    try:\n",
    "        p['precio_oferta'] = item.find(\"span\",{\"class\",\"precio-numero\"}).text.strip().replace(\"$\",\"\")\n",
    "    except:\n",
    "        p['precio_oferta'] = None\n",
    "    try:\n",
    "        p['texto_oferta'] = \" \".join(item.find(\"span\",{\"class\",\"precio-texto\"}).text.strip.split())\n",
    "    except:\n",
    "        p['texto_oferta'] = None\n",
    "    p['marca'] = \" \".join(item.find(\"p\",{\"class\",\"brand truncate\"}).text.strip().split())\n",
    "    p['producto'] = \" \".join(item.find(\"p\",{\"class\":\"title title-food truncate\"}).text.strip().split())\n",
    "    l.append(p)\n",
    "    \n",
    "# browser.close()"
   ]
  },
  {
   "cell_type": "code",
   "execution_count": 71,
   "metadata": {},
   "outputs": [
    {
     "data": {
      "text/plain": [
       "{'ruta_categoria': 'Almacén/Enlatados y Conservas/Conservas de pescado/Destacados General/Almacén/Destacados de Almacén/¡ PROMOCIONES !/2do al 70% en productos seleccionados/Almacén/Conservas de pescado',\n",
       " 'precio_bruto': '199,00',\n",
       " 'precio_medida': '1170,59',\n",
       " 'medida': '1 K',\n",
       " 'oferta': None,\n",
       " 'precio_oferta': None,\n",
       " 'texto_oferta': None,\n",
       " 'marca': 'La Campagnola',\n",
       " 'producto': 'Atún La Campagnola al natural 170 g.'}"
      ]
     },
     "execution_count": 71,
     "metadata": {},
     "output_type": "execute_result"
    }
   ],
   "source": [
    "l[0]"
   ]
  },
  {
   "cell_type": "code",
   "execution_count": null,
   "metadata": {},
   "outputs": [],
   "source": [
    "import pandas as pd\n",
    "df = pd.DataFrame(l)"
   ]
  },
  {
   "cell_type": "code",
   "execution_count": 73,
   "metadata": {},
   "outputs": [],
   "source": [
    "today = str(datetime.date(datetime.now())).replace(\"-\",\"\")\n",
    "df['fecha'] = today"
   ]
  },
  {
   "cell_type": "code",
   "execution_count": 74,
   "metadata": {},
   "outputs": [],
   "source": [
    "df.to_csv(today + \"_carrefour_+ \" + seccion + \".csv\",encoding=\"utf-8\")"
   ]
  },
  {
   "cell_type": "code",
   "execution_count": 49,
   "metadata": {},
   "outputs": [],
   "source": [
    "today = "
   ]
  },
  {
   "cell_type": "code",
   "execution_count": 50,
   "metadata": {},
   "outputs": [
    {
     "data": {
      "text/plain": [
       "'20200501'"
      ]
     },
     "execution_count": 50,
     "metadata": {},
     "output_type": "execute_result"
    }
   ],
   "source": [
    "today"
   ]
  },
  {
   "cell_type": "code",
   "execution_count": 57,
   "metadata": {},
   "outputs": [
    {
     "data": {
      "text/plain": [
       "'hello apple aple v v v vasdasda v v'"
      ]
     },
     "execution_count": 57,
     "metadata": {},
     "output_type": "execute_result"
    }
   ],
   "source": [
    "sentence = ' hello                    apple aple v v v vasdasda v      v'\n",
    "\" \".join(sentence.split())"
   ]
  },
  {
   "cell_type": "code",
   "execution_count": null,
   "metadata": {},
   "outputs": [],
   "source": []
  }
 ],
 "metadata": {
  "kernelspec": {
   "display_name": "Python 3",
   "language": "python",
   "name": "python3"
  },
  "language_info": {
   "codemirror_mode": {
    "name": "ipython",
    "version": 3
   },
   "file_extension": ".py",
   "mimetype": "text/x-python",
   "name": "python",
   "nbconvert_exporter": "python",
   "pygments_lexer": "ipython3",
   "version": "3.8.2"
  }
 },
 "nbformat": 4,
 "nbformat_minor": 4
}
