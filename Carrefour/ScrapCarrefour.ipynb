{
 "cells": [
  {
   "cell_type": "code",
   "execution_count": 72,
   "metadata": {},
   "outputs": [],
   "source": [
    "#---------------------------------------- Importa las librerias a utilizar ----------------------------------------#\n",
    "import requests\n",
    "from bs4 import BeautifulSoup\n",
    "import re\n",
    "from selenium import webdriver\n",
    "import time\n",
    "from datetime import datetime"
   ]
  },
  {
   "cell_type": "code",
   "execution_count": 2,
   "metadata": {},
   "outputs": [],
   "source": [
    "#---------------------------------------- Funciones complementarias ----------------------------------------#\n",
    "def encuentra_batcher_png(texto):\n",
    "    \"\"\"Función para despejar el nombre de la imagen colocada en batcher.\"\"\"\n",
    "    patron = re.compile(\".png\")\n",
    "    patron2 = re.compile(\"/\")\n",
    "\n",
    "    s2 = patron2.split(texto)\n",
    "\n",
    "    for txt in s2:\n",
    "        s = patron.search(txt)\n",
    "        if type(s) == re.Match:\n",
    "            txt2 = patron.split(txt)\n",
    "            return(txt2[0])"
   ]
  },
  {
   "cell_type": "code",
   "execution_count": 3,
   "metadata": {},
   "outputs": [],
   "source": [
    "#---------------------------------------- Carga todos los items de la pag ----------------------------------------#\n",
    "\n",
    "# browser = webdriver.PhantomJS()\n",
    "browser = webdriver.Chrome(\"C:\\chromedriver_win32\\chromedriver.exe\")\n",
    "browser.get(\"https://supermercado.carrefour.com.ar/almacen.html\")\n",
    "\n",
    "SCROLL_PAUSE_TIME = 0.5\n",
    "\n",
    "# Get scroll height\n",
    "last_height = browser.execute_script(\"return document.body.scrollHeight\")\n",
    "\n",
    "while True:\n",
    "    # Scroll down to bottom\n",
    "    browser.execute_script(\"window.scrollTo(0, document.body.scrollHeight);\")\n",
    "\n",
    "    # Wait to load page\n",
    "    time.sleep(SCROLL_PAUSE_TIME)\n",
    "\n",
    "    # Calculate new scroll height and compare with last scroll height\n",
    "    new_height = browser.execute_script(\"return document.body.scrollHeight\")\n",
    "    if new_height == last_height:\n",
    "        break\n",
    "    last_height = new_height\n",
    "\n",
    "\n",
    "for i in range(60):\n",
    "    time.sleep(1)     #Explicit wait\n",
    "    # click radio button\n",
    "    try:\n",
    "        python_button = browser.find_elements_by_xpath(\"/html/body/div[1]/div[1]/div[1]/div[8]/div/div/div[4]/a\")[0]\n",
    "        browser.execute_script(\"arguments[0].click();\", python_button)\n",
    "    except:\n",
    "        pass\n",
    "time.sleep(1)     #Explicit wait\n",
    "\n"
   ]
  },
  {
   "cell_type": "code",
   "execution_count": 66,
   "metadata": {},
   "outputs": [],
   "source": [
    "#---------------------------------------- Código scrap de la página cargada ----------------------------------------#\n",
    "\n",
    "soup = BeautifulSoup(browser.page_source,\"html.parser\",multi_valued_attributes=None)\n",
    "all = soup.findAll(\"div\", {\"class\": \"col s12 product-card product-card-food\"})\n",
    "\n",
    "l=[]\n",
    "for item in all:\n",
    "    p={}\n",
    "    info_producto = item.find(\"div\",{\"class\":\"producto-info\"})\n",
    "    p['ruta_categoria']=info_producto['data-categorytext']\n",
    "    p['precio_bruto']=info_producto['data-price'].replace(\",\",\"\").replace(\".\",\",\")\n",
    "    if item.find(\"div\",{\"class\":\"batches\"}) is not None:\n",
    "        p['etiqueta_png']=encuentra_batcher_png(item.find(\"div\",{\"class\":\"batches\"})['style'])\n",
    "    p['precio_medida'],p['medida']=item.find(\"div\",{\"class\":\"precio-medida\"}).text.strip().split('x')\n",
    "    p['precio_medida'] = p['precio_medida'].replace(\"($\",\"\").strip().replace(\".\",\"\")\n",
    "    p['medida'] = p['medida'].replace(\".)\",\"\").strip()\n",
    "    try:\n",
    "        p['oferta']=item.find(\"p\",{\"class\",\"offer\"}).text\n",
    "    except:\n",
    "        p['oferta']=None\n",
    "    try:\n",
    "        p['precio_oferta']=item.find(\"span\",{\"class\",\"precio-numero\"}).text.strip().replace(\"$\",\"\")\n",
    "    except:\n",
    "        p['precio_oferta']=None\n",
    "    try:\n",
    "        p['texto_oferta']=item.find(\"span\",{\"class\",\"precio-texto\"}).text.strip()\n",
    "    except:\n",
    "        p['texto_oferta']=None\n",
    "    p['marca']=item.find(\"p\",{\"class\",\"brand truncate\"}).text.strip()\n",
    "    p['producto']=item.find(\"p\",{\"class\":\"title title-food truncate\"}).text.strip()\n",
    "    l.append(p)\n",
    "    \n",
    "# browser.close()"
   ]
  },
  {
   "cell_type": "code",
   "execution_count": 62,
   "metadata": {},
   "outputs": [
    {
     "data": {
      "text/plain": [
       "{'ruta_categoria': 'Almacén/Sal, aderezos y saborizadores/Saborizadores',\n",
       " 'precio_bruto': '78,00',\n",
       " 'precio_medida': '1368,42',\n",
       " 'medida': '1 K',\n",
       " 'oferta': None,\n",
       " 'precio_oferta': None,\n",
       " 'precio_texto': None,\n",
       " 'marca': 'Knorr',\n",
       " 'producto': 'Saborizador Knorr albahaca y ajo 6 u.'}"
      ]
     },
     "execution_count": 62,
     "metadata": {},
     "output_type": "execute_result"
    }
   ],
   "source": [
    "l[1253]"
   ]
  },
  {
   "cell_type": "code",
   "execution_count": 67,
   "metadata": {},
   "outputs": [],
   "source": [
    "import pandas as pd\n",
    "df = pd.DataFrame(l)"
   ]
  },
  {
   "cell_type": "code",
   "execution_count": 73,
   "metadata": {},
   "outputs": [],
   "source": [
    "df['fecha'] = datetime.now()"
   ]
  },
  {
   "cell_type": "code",
   "execution_count": 74,
   "metadata": {},
   "outputs": [],
   "source": [
    "df.to_csv(\"20200426_carrefour_almacen.csv\",encoding=\"utf-8\")"
   ]
  },
  {
   "cell_type": "code",
   "execution_count": null,
   "metadata": {},
   "outputs": [],
   "source": []
  }
 ],
 "metadata": {
  "kernelspec": {
   "display_name": "Python 3",
   "language": "python",
   "name": "python3"
  },
  "language_info": {
   "codemirror_mode": {
    "name": "ipython",
    "version": 3
   },
   "file_extension": ".py",
   "mimetype": "text/x-python",
   "name": "python",
   "nbconvert_exporter": "python",
   "pygments_lexer": "ipython3",
   "version": "3.8.2"
  }
 },
 "nbformat": 4,
 "nbformat_minor": 4
}
